{
 "cells": [
  {
   "cell_type": "markdown",
   "metadata": {},
   "source": [
    "<a href='https://www.darshan.ac.in/'> <img src='https://www.darshan.ac.in/Content/media/DU_Logo.svg' width=\"250\" height=\"300\"/></a>\n",
    "<pre>\n",
    "<center><b><h1>Python Programming - 2301CS404</b></center>\n",
    "<center><b><h1>Lab - 10</b></center>    \n",
    "<pre>"
   ]
  },
  {
   "cell_type": "markdown",
   "metadata": {},
   "source": [
    "# Exception Handling"
   ]
  },
  {
   "cell_type": "markdown",
   "metadata": {},
   "source": [
    "### 01) WAP to handle following exceptions:\n",
    "1. ZeroDivisionError\n",
    "2. ValueError\n",
    "3. TypeError\n",
    "#### Note: handle them using separate except blocks and also using single except block too."
   ]
  },
  {
   "cell_type": "code",
   "execution_count": 27,
   "metadata": {},
   "outputs": [
    {
     "name": "stdin",
     "output_type": "stream",
     "text": [
      "Enter a numerator:  10\n",
      "Enter a denominator:  0\n"
     ]
    },
    {
     "name": "stdout",
     "output_type": "stream",
     "text": [
      "Error division by zero\n"
     ]
    }
   ],
   "source": [
    "print(\"Separate\")\n",
    "try:\n",
    "    num1 = int(input(\"Enter a numerator: \"))\n",
    "    num2 = int(input(\"Enter a denominator: \"))\n",
    "    result = num1 / num2\n",
    "    print(\"Result:\", result)\n",
    "    \n",
    "    number = int(input(\"Enter an integer: \"))\n",
    "    print(\"You entered:\", number)\n",
    "    print(\"Sum:\", \"10\" + 5)\n",
    "except ZeroDivisionError:\n",
    "    print(\"Error: Division by zero is not allowed.\")\n",
    "except ValueError:\n",
    "    print(\"Error: Please enter a valid integer.\")\n",
    "except TypeError:\n",
    "    print(\"Error: Cannot add a string and an integer.\")\n",
    "\n",
    "#--------------------------------------------------------------------\n",
    "print(\"Single\")\n",
    "try:\n",
    "    num1 = int(input(\"Enter a numerator: \"))\n",
    "    num2 = int(input(\"Enter a denominator: \"))\n",
    "    result = num1 / num2\n",
    "    print(\"Result:\", result)\n",
    "    number = int(input(\"Enter an integer: \"))\n",
    "    print(\"You entered:\", number)\n",
    "    print(\"Sum:\", \"10\" + 5)\n",
    "except (ZeroDivisionError, ValueError, TypeError) as e:\n",
    "        print(f\"An error occurred: {e}\")\n",
    "\n",
    "\n"
   ]
  },
  {
   "cell_type": "markdown",
   "metadata": {},
   "source": [
    "### 02)  WAP to handle following exceptions:\n",
    "1. IndexError\n",
    "2. KeyError"
   ]
  },
  {
   "cell_type": "code",
   "execution_count": 37,
   "metadata": {},
   "outputs": [
    {
     "name": "stdout",
     "output_type": "stream",
     "text": [
      "List has index out of range.\n",
      "Key is not found in the dictionary.\n"
     ]
    }
   ],
   "source": [
    "try:\n",
    "        my_list = [1, 2, 3]\n",
    "        print(\"Accessing element at index 5:\", my_list[5])\n",
    "     \n",
    "except IndexError:\n",
    "        print(\"List has index out of range.\")\n",
    "try : \n",
    "     my_dict = { \"id\" : 10 , \"name\": \"Haril\"}\n",
    "     print(\"Accessing non-existent key:\", my_dict[\"address\"])\n",
    "except KeyError:\n",
    "        print(\"Key is not found in the dictionary.\")"
   ]
  },
  {
   "cell_type": "markdown",
   "metadata": {},
   "source": [
    "### 03) WAP to handle following exceptions:\n",
    "1. FileNotFoundError\n",
    "2. ModuleNotFoundError"
   ]
  },
  {
   "cell_type": "code",
   "execution_count": 31,
   "metadata": {},
   "outputs": [
    {
     "name": "stdout",
     "output_type": "stream",
     "text": [
      "file was not found.\n"
     ]
    }
   ],
   "source": [
    "try:\n",
    "     with open(\"xyz.txt\", \"r\") as file:\n",
    "         content = file.read()\n",
    "         print(content) \n",
    "except FileNotFoundError:\n",
    "    print(\"file was not found.\")\n",
    "try :\n",
    "    import xyz\n",
    "except ModuleNotFoundError:\n",
    "    print(\"module was not found.\")    "
   ]
  },
  {
   "cell_type": "markdown",
   "metadata": {},
   "source": [
    "### 04) WAP that catches all type of exceptions in a single except block."
   ]
  },
  {
   "cell_type": "code",
   "execution_count": 36,
   "metadata": {},
   "outputs": [
    {
     "name": "stdin",
     "output_type": "stream",
     "text": [
      "Enter a numerator:  10\n",
      "Enter a denominator:  2\n"
     ]
    },
    {
     "name": "stdout",
     "output_type": "stream",
     "text": [
      "Result: 5.0\n"
     ]
    },
    {
     "name": "stdin",
     "output_type": "stream",
     "text": [
      "Enter an integer:  1\n"
     ]
    },
    {
     "name": "stdout",
     "output_type": "stream",
     "text": [
      "You entered: 1\n",
      "Error can only concatenate str (not \"int\") to str\n"
     ]
    }
   ],
   "source": [
    "try:\n",
    "        n1 = int(input(\"Enter a numerator: \"))\n",
    "        n2 = int(input(\"Enter a denominator: \"))\n",
    "        result = n1 / n2\n",
    "        print(\"Result:\", result)\n",
    "        \n",
    "        x = int(input(\"Enter an integer: \"))\n",
    "        print(\"You entered:\", x)\n",
    "\n",
    "        sum = \"10\" + x\n",
    "        print(sum)\n",
    "\n",
    "except Exception as e:\n",
    "        print(f\"Error {e}\")\n"
   ]
  },
  {
   "cell_type": "markdown",
   "metadata": {},
   "source": [
    "### 05) WAP to demonstrate else  and finally block."
   ]
  },
  {
   "cell_type": "code",
   "execution_count": 40,
   "metadata": {},
   "outputs": [
    {
     "name": "stdout",
     "output_type": "stream",
     "text": [
      "division by zero\n",
      "Finally\n",
      "5.0\n",
      "Else\n"
     ]
    }
   ],
   "source": [
    "try :\n",
    "    print(10/0)\n",
    "except Exception as e :\n",
    "    print(e)\n",
    "finally :\n",
    "    print(\"Finally\")\n",
    "\n",
    "#----------------------------\n",
    "try :\n",
    "    print(10/2)\n",
    "except Exception as e :\n",
    "    print(e)\n",
    "else :\n",
    "    print(\"Else\")"
   ]
  },
  {
   "cell_type": "markdown",
   "metadata": {},
   "source": [
    "### 06) Create a short program that prompts the user for a list of grades separated by commas. \n",
    "### Split the string into individual grades and use a list comprehension to convert each string to an integer. \n",
    "### You should use a try statement to inform the user when the values they entered cannot be converted."
   ]
  },
  {
   "cell_type": "code",
   "execution_count": null,
   "metadata": {},
   "outputs": [],
   "source": []
  },
  {
   "cell_type": "markdown",
   "metadata": {},
   "source": [
    "### 07) WAP to create an udf divide(a,b) that handles ZeroDivisionError."
   ]
  },
  {
   "cell_type": "code",
   "execution_count": 48,
   "metadata": {},
   "outputs": [
    {
     "name": "stdout",
     "output_type": "stream",
     "text": [
      "Error : division by zero\n"
     ]
    }
   ],
   "source": [
    "def divide(x,y):\n",
    "    try:\n",
    "        C = x / y\n",
    "    except ZeroDivisionError as e:\n",
    "        return (f\"Error : {e}\")\n",
    "    else:\n",
    "        return(C) \n",
    "print(divide(10,0))"
   ]
  },
  {
   "cell_type": "markdown",
   "metadata": {},
   "source": [
    "### 08) WAP that gets an age of a person from the user and raises ValueError with error message: \"Enter Valid Age\" :\n",
    "#### If the age is less than 18. \n",
    "#### otherwise print the age."
   ]
  },
  {
   "cell_type": "code",
   "execution_count": 57,
   "metadata": {},
   "outputs": [
    {
     "name": "stdin",
     "output_type": "stream",
     "text": [
      "Enter the age 19\n"
     ]
    },
    {
     "name": "stdout",
     "output_type": "stream",
     "text": [
      "19\n"
     ]
    }
   ],
   "source": [
    "class ageError(Exception):\n",
    "    def __init(self,msg):\n",
    "        msg = self.msg\n",
    "try:\n",
    "    age = int(input(\"Enter the age\"))\n",
    "    if age > 18:\n",
    "        print(age)\n",
    "    else:\n",
    "        raise ageError(\"Plase| Enter age grater than 18\")\n",
    "except ageError as e:\n",
    "    print(e)"
   ]
  },
  {
   "cell_type": "markdown",
   "metadata": {},
   "source": [
    "### 09) WAP to raise your custom Exception named InvalidUsernameError with the error message : \"Username must be between 5 and 15 characters long\":\n",
    "#### if the given name is having characters less than 5 or greater than 15.\n",
    "#### otherwise print the given username."
   ]
  },
  {
   "cell_type": "code",
   "execution_count": 53,
   "metadata": {},
   "outputs": [
    {
     "name": "stdin",
     "output_type": "stream",
     "text": [
      "Enter the name haril\n"
     ]
    },
    {
     "name": "stdout",
     "output_type": "stream",
     "text": [
      "haril\n"
     ]
    }
   ],
   "source": [
    "class InvalidUsernameError(Exception):\n",
    "    def __init(self,msg):\n",
    "        msg = self.msg\n",
    "try:\n",
    "    s = input(\"Enter the name\")\n",
    "    if (len(s) >= 5) and (len(s) <= 15):\n",
    "        print(s)\n",
    "    else:\n",
    "        raise InvalidUsernameError(\"Inavlid User Name\")\n",
    "except InvalidUsernameError as e:\n",
    "    print(e)"
   ]
  },
  {
   "cell_type": "markdown",
   "metadata": {},
   "source": [
    "### 10) WAP to raise your custom Exception named NegativeNumberError with the error message : \"Cannot calculate the square root of a negative number\" :\n",
    "#### if the given number is negative.\n",
    "#### otherwise print the square root of the given number."
   ]
  },
  {
   "cell_type": "code",
   "execution_count": 52,
   "metadata": {},
   "outputs": [
    {
     "name": "stdin",
     "output_type": "stream",
     "text": [
      "Enter the age 10\n"
     ]
    },
    {
     "name": "stdout",
     "output_type": "stream",
     "text": [
      "10\n"
     ]
    }
   ],
   "source": [
    "class NegativeNumberError(Exception):\n",
    "    def __init(self,msg):\n",
    "        msg = self.msg\n",
    "try:\n",
    "    a = int(input(\"Enter the age\"))\n",
    "    if a > 0:\n",
    "        print(a)\n",
    "    else:\n",
    "        raise NegativeNumberError(\"a must be grate then 0\")\n",
    "except NegativeNumberError as e:\n",
    "    print(e)"
   ]
  }
 ],
 "metadata": {
  "kernelspec": {
   "display_name": "Python 3 (ipykernel)",
   "language": "python",
   "name": "python3"
  },
  "language_info": {
   "codemirror_mode": {
    "name": "ipython",
    "version": 3
   },
   "file_extension": ".py",
   "mimetype": "text/x-python",
   "name": "python",
   "nbconvert_exporter": "python",
   "pygments_lexer": "ipython3",
   "version": "3.12.7"
  }
 },
 "nbformat": 4,
 "nbformat_minor": 4
}
