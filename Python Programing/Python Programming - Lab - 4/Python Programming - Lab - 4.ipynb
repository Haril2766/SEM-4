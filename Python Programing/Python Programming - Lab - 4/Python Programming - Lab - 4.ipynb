{
 "cells": [
  {
   "cell_type": "markdown",
   "metadata": {},
   "source": [
    "\n",
    "<a href='https://www.darshan.ac.in/'> <img src='https://www.darshan.ac.in/Content/media/DU_Logo.svg' width=\"250\" height=\"300\"/></a>\n",
    "<pre>\n",
    "<center><b><h1>Python Programming - 2301CS404</b></center>\n",
    "<center><b><h1>Lab - 4</b></center> \n",
    "<center><b><h1>Haril Parmar - 4A -258 </b></center>\n",
    "<center><b><h1>23010101188</b></center>   \n",
    "<pre>"
   ]
  },
  {
   "cell_type": "markdown",
   "metadata": {},
   "source": [
    "# String"
   ]
  },
  {
   "cell_type": "markdown",
   "metadata": {},
   "source": [
    "### 01) WAP to check whether the given string is palindrome or not."
   ]
  },
  {
   "cell_type": "code",
   "execution_count": 2,
   "metadata": {},
   "outputs": [
    {
     "name": "stdin",
     "output_type": "stream",
     "text": [
      "Enter String :  haril\n"
     ]
    },
    {
     "name": "stdout",
     "output_type": "stream",
     "text": [
      "String is not Palindrom\n"
     ]
    }
   ],
   "source": [
    "x = input(\"Enter String : \")\n",
    "y = x[::-1]\n",
    "if (x == y) : \n",
    "    print(\"String is Palindrom\")\n",
    "else : \n",
    "    print(\"String is not Palindrom\")\n",
    "    "
   ]
  },
  {
   "cell_type": "markdown",
   "metadata": {},
   "source": [
    "### 02) WAP to reverse the words in the given string."
   ]
  },
  {
   "cell_type": "code",
   "execution_count": 3,
   "metadata": {},
   "outputs": [
    {
     "name": "stdin",
     "output_type": "stream",
     "text": [
      "Enter String :  haril\n"
     ]
    },
    {
     "name": "stdout",
     "output_type": "stream",
     "text": [
      "Revers of String is lirah\n"
     ]
    }
   ],
   "source": [
    "x = input(\"Enter String : \")\n",
    "print(f\"Revers of String is {x[::-1]}\")"
   ]
  },
  {
   "cell_type": "markdown",
   "metadata": {},
   "source": [
    "### 03) WAP to remove ith character from given string."
   ]
  },
  {
   "cell_type": "code",
   "execution_count": 16,
   "metadata": {},
   "outputs": [
    {
     "name": "stdin",
     "output_type": "stream",
     "text": [
      "Enter String :  haril\n",
      "Enter ith index :  2\n"
     ]
    },
    {
     "name": "stdout",
     "output_type": "stream",
     "text": [
      "hail\n"
     ]
    }
   ],
   "source": [
    "x = input(\"Enter String : \")\n",
    "n = int(input(\"Enter ith index : \"))\n",
    "\n",
    "ans = x[:n] + x[n+1:]\n",
    "\n",
    "print(ans)"
   ]
  },
  {
   "cell_type": "markdown",
   "metadata": {},
   "source": [
    "### 04) WAP to find length of string without using len function."
   ]
  },
  {
   "cell_type": "code",
   "execution_count": 18,
   "metadata": {},
   "outputs": [
    {
     "name": "stdin",
     "output_type": "stream",
     "text": [
      "Enter String :  Haril\n"
     ]
    },
    {
     "name": "stdout",
     "output_type": "stream",
     "text": [
      "5\n"
     ]
    }
   ],
   "source": [
    "x = input(\"Enter String : \")\n",
    "count = 0\n",
    "\n",
    "for char in x :\n",
    "    count += 1\n",
    "print(count)"
   ]
  },
  {
   "cell_type": "markdown",
   "metadata": {},
   "source": [
    "### 05) WAP to print even length word in string."
   ]
  },
  {
   "cell_type": "code",
   "execution_count": 27,
   "metadata": {},
   "outputs": [
    {
     "name": "stdin",
     "output_type": "stream",
     "text": [
      "Enter String :  my name is haril\n"
     ]
    },
    {
     "name": "stdout",
     "output_type": "stream",
     "text": [
      "my\n",
      "name\n",
      "is\n"
     ]
    }
   ],
   "source": [
    "x = input(\"Enter String : \")\n",
    "s = x.split()\n",
    "for i in range(0,len(s),1)  :\n",
    "    if(len(s[i]) %2 == 0) :\n",
    "        print(s[i])"
   ]
  },
  {
   "cell_type": "markdown",
   "metadata": {},
   "source": [
    "### 06) WAP to count numbers of vowels in given string."
   ]
  },
  {
   "cell_type": "code",
   "execution_count": 29,
   "metadata": {},
   "outputs": [
    {
     "name": "stdin",
     "output_type": "stream",
     "text": [
      "Enter String :  Haril\n"
     ]
    },
    {
     "name": "stdout",
     "output_type": "stream",
     "text": [
      "2\n"
     ]
    }
   ],
   "source": [
    "x = input(\"Enter String : \")\n",
    "vowel = ['a','e','i','o','u','A','E','I','O','U', ]\n",
    "count = 0\n",
    "\n",
    "for i in range(0,len(x)) :\n",
    "    if x[i] in vowel :\n",
    "        count += 1\n",
    "\n",
    "print(count)"
   ]
  },
  {
   "cell_type": "markdown",
   "metadata": {},
   "source": [
    "### 07) WAP to capitalize the first and last character of each word in a string."
   ]
  },
  {
   "cell_type": "code",
   "execution_count": 20,
   "metadata": {},
   "outputs": [
    {
     "name": "stdin",
     "output_type": "stream",
     "text": [
      "Enter String :  i am haril\n"
     ]
    },
    {
     "name": "stdout",
     "output_type": "stream",
     "text": [
      "I AM HariL \n"
     ]
    }
   ],
   "source": [
    "x = input(\"Enter String : \")\n",
    "a = x.split() \n",
    "ans = \"\"     \n",
    "for i in range(0, len(a)):\n",
    "    word = a[i]\n",
    "    if len(word) == 1:\n",
    "        ans += word.upper() + \" \"  \n",
    "    else:\n",
    "        ans += word[0].upper() + word[1:-1] + word[-1].upper() + \" \"\n",
    "\n",
    "print(ans)"
   ]
  },
  {
   "cell_type": "markdown",
   "metadata": {},
   "source": [
    "### 08) WAP to convert given array to string."
   ]
  },
  {
   "cell_type": "code",
   "execution_count": 25,
   "metadata": {},
   "outputs": [
    {
     "name": "stdin",
     "output_type": "stream",
     "text": [
      "Enter Array element :  i,am,haril,parmar,from,darshan,university\n"
     ]
    },
    {
     "name": "stdout",
     "output_type": "stream",
     "text": [
      "Array: ['i', 'am', 'haril', 'parmar', 'from', 'darshan', 'university']\n",
      "String: i am haril parmar from darshan university\n"
     ]
    }
   ],
   "source": [
    "array = input(\"Enter Array element : \").split(\",\")\n",
    "result = \" \".join(array)\n",
    "print(\"Array:\", array)\n",
    "print(\"String:\", result)"
   ]
  },
  {
   "cell_type": "markdown",
   "metadata": {},
   "source": [
    "### 09) Check if the password and confirm password is same or not. \n",
    "### In case of only case's mistake, show the error message."
   ]
  },
  {
   "cell_type": "code",
   "execution_count": null,
   "metadata": {},
   "outputs": [],
   "source": [
    "s = input(\"Enter String\")\n",
    "t = input(\"Enter String\")\n",
    "print(\"case mistek\") if t.lower()==s else print(\"Not\")"
   ]
  },
  {
   "cell_type": "markdown",
   "metadata": {},
   "source": [
    "### 10) : Display credit card number. \n",
    "### card no. : 1234 5678 9012 3456\n",
    "### display as  : **** **** **** 3456"
   ]
  },
  {
   "cell_type": "code",
   "execution_count": 1,
   "metadata": {},
   "outputs": [
    {
     "name": "stdin",
     "output_type": "stream",
     "text": [
      "Enter your credit card number:  1234 5678 9123 4567\n"
     ]
    },
    {
     "name": "stdout",
     "output_type": "stream",
     "text": [
      "Display as: **** **** **** 4567\n"
     ]
    }
   ],
   "source": [
    "card_number = input(\"Enter your credit card number: \")\n",
    "card_number = card_number.replace(\" \", \"\")\n",
    "masked_card_number = \"**** **** **** \" + card_number[-4:]\n",
    "print(\"Display as:\", masked_card_number)"
   ]
  },
  {
   "cell_type": "markdown",
   "metadata": {},
   "source": [
    "### 11) : Checking if the two strings are Anagram or not.\n",
    "### s1 = decimal and s2 = medical are Anagram"
   ]
  },
  {
   "cell_type": "code",
   "execution_count": 43,
   "metadata": {},
   "outputs": [
    {
     "name": "stdin",
     "output_type": "stream",
     "text": [
      "Enter 1st String :  medical\n",
      "Enter 2nd String :  decimal\n"
     ]
    },
    {
     "name": "stdout",
     "output_type": "stream",
     "text": [
      "Anagram\n"
     ]
    }
   ],
   "source": [
    "x = input(\"Enter 1st String : \")\n",
    "y = input(\"Enter 2nd String : \")\n",
    "\n",
    "xl = list(x.lower())\n",
    "yl = list(y.lower())\n",
    "xl.sort()\n",
    "yl.sort()\n",
    "\n",
    "if(xl == yl) :\n",
    "    print(\"Anagram\")\n",
    "else :\n",
    "    print(\"Not Anagram\")"
   ]
  },
  {
   "cell_type": "markdown",
   "metadata": {},
   "source": [
    "### 12) : Rearrange the given string. First lowercase then uppercase alphabets.\n",
    "### input : EHlsarwiwhtwMV\n",
    "### output : lsarwiwhtwEHMV"
   ]
  },
  {
   "cell_type": "code",
   "execution_count": 34,
   "metadata": {},
   "outputs": [
    {
     "name": "stdin",
     "output_type": "stream",
     "text": [
      "Enter String :  EHlsarwiwhtwMV\n"
     ]
    },
    {
     "name": "stdout",
     "output_type": "stream",
     "text": [
      "lsarwiwhtwEHMV\n"
     ]
    }
   ],
   "source": [
    "x = input(\"Enter String : \")\n",
    "l = len(x)\n",
    "tempL = \"\"\n",
    "tempU = \"\"\n",
    "\n",
    "for i in range(l) :\n",
    "    if(x[i].islower()) :\n",
    "        tempL += x[i]\n",
    "    else :  \n",
    "        tempU += x[i] \n",
    "print(tempL+tempU)        "
   ]
  }
 ],
 "metadata": {
  "kernelspec": {
   "display_name": "Python 3 (ipykernel)",
   "language": "python",
   "name": "python3"
  },
  "language_info": {
   "codemirror_mode": {
    "name": "ipython",
    "version": 3
   },
   "file_extension": ".py",
   "mimetype": "text/x-python",
   "name": "python",
   "nbconvert_exporter": "python",
   "pygments_lexer": "ipython3",
   "version": "3.12.7"
  },
  "vscode": {
   "interpreter": {
    "hash": "31f2aee4e71d21fbe5cf8b01ff0e069b9275f58929596ceb00d14d90e3e16cd6"
   }
  }
 },
 "nbformat": 4,
 "nbformat_minor": 4
}
