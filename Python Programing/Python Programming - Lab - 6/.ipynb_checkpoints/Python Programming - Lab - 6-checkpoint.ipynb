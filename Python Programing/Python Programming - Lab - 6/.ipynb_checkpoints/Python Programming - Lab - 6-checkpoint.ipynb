{
 "cells": [
  {
   "attachments": {},
   "cell_type": "markdown",
   "metadata": {},
   "source": [
    "<a href='https://www.darshan.ac.in/'> <img src='https://www.darshan.ac.in/Content/media/DU_Logo.svg' width=\"250\" height=\"300\"/></a>\n",
    "<pre>\n",
    "<center><b><h1>Python Programming - 2301CS404</b></center>\n",
    "<center><b><h1>Lab - 6</b></center>    \n",
    "<pre>"
   ]
  },
  {
   "cell_type": "markdown",
   "metadata": {},
   "source": [
    "# Tuple"
   ]
  },
  {
   "cell_type": "markdown",
   "metadata": {},
   "source": [
    "### 01) WAP to find sum of tuple elements."
   ]
  },
  {
   "cell_type": "code",
   "execution_count": 7,
   "metadata": {},
   "outputs": [
    {
     "name": "stdin",
     "output_type": "stream",
     "text": [
      "Enter Size of tuple :  5\n",
      "Enter 1th element :  1\n",
      "Enter 2th element :  2\n",
      "Enter 3th element :  3\n",
      "Enter 4th element :  4\n",
      "Enter 5th element :  5\n"
     ]
    },
    {
     "name": "stdout",
     "output_type": "stream",
     "text": [
      "15\n"
     ]
    }
   ],
   "source": [
    "t1 = []\n",
    "n = int(input(\"Enter Size of tuple : \"))\n",
    "for i in range (n) :\n",
    "   t1.append(int(input(f\"Enter {i+1}th element : \")))\n",
    "t1 = tuple(t1)\n",
    "\n",
    "print (sum(t1))"
   ]
  },
  {
   "cell_type": "markdown",
   "metadata": {},
   "source": [
    "### 02) WAP to find Maximum and Minimum K elements in a given tuple."
   ]
  },
  {
   "cell_type": "code",
   "execution_count": 9,
   "metadata": {},
   "outputs": [
    {
     "name": "stdin",
     "output_type": "stream",
     "text": [
      "Enter Size of tuple :  5\n",
      "Enter 1th element :  1\n",
      "Enter 2th element :  2\n",
      "Enter 3th element :  3\n",
      "Enter 4th element :  4\n",
      "Enter 5th element :  5\n",
      "Enter Value of K :  2\n"
     ]
    },
    {
     "name": "stdout",
     "output_type": "stream",
     "text": [
      "(1, 2)\n",
      "(5, 4)\n"
     ]
    }
   ],
   "source": [
    "t1 = []\n",
    "n = int(input(\"Enter Size of tuple : \"))\n",
    "for i in range (n) :\n",
    "   t1.append(int(input(f\"Enter {i+1}th element : \")))\n",
    "t1 = tuple(t1)\n",
    "t1 = sorted(t1)\n",
    "\n",
    "k = int(input(\"Enter Value of K : \"))\n",
    "print(tuple(t1[:k:1]))\n",
    "print(tuple(t1[:k:-1]))"
   ]
  },
  {
   "cell_type": "markdown",
   "metadata": {},
   "source": [
    "### 03) WAP to find tuples which have all elements divisible by K from a list of tuples."
   ]
  },
  {
   "cell_type": "code",
   "execution_count": 11,
   "metadata": {},
   "outputs": [
    {
     "name": "stdin",
     "output_type": "stream",
     "text": [
      "Enter Size of tuple :  5\n",
      "Enter 1th element :  1\n",
      "Enter 2th element :  2\n",
      "Enter 3th element :  3\n",
      "Enter 4th element :  4\n",
      "Enter 5th element :  5\n",
      "Enter Value of K :  2\n"
     ]
    },
    {
     "name": "stdout",
     "output_type": "stream",
     "text": [
      "2\n",
      "4\n"
     ]
    }
   ],
   "source": [
    "t1 = []\n",
    "n = int(input(\"Enter Size of tuple : \"))\n",
    "for i in range (n) :\n",
    "   t1.append(int(input(f\"Enter {i+1}th element : \")))\n",
    "t1 = tuple(t1)\n",
    "k = int(input(\"Enter Value of K : \"))\n",
    "\n",
    "count = 0\n",
    "for i in t1:\n",
    "    if i%k == 0 :\n",
    "        print(i)\n",
    "        count += 1\n",
    "if(count != 1) :\n",
    "    print(\"Not Divisible\")"
   ]
  },
  {
   "cell_type": "markdown",
   "metadata": {},
   "source": [
    "### 04) WAP to create a list of tuples from given list having number and its cube in each tuple."
   ]
  },
  {
   "cell_type": "code",
   "execution_count": 16,
   "metadata": {},
   "outputs": [
    {
     "name": "stdin",
     "output_type": "stream",
     "text": [
      "Enter Size of tuple :  3\n",
      "Enter 1th element :  1\n",
      "Enter 2th element :  2\n",
      "Enter 3th element :  3\n"
     ]
    },
    {
     "data": {
      "text/plain": [
       "[(1, 1), (2, 8), (3, 27)]"
      ]
     },
     "execution_count": 16,
     "metadata": {},
     "output_type": "execute_result"
    }
   ],
   "source": [
    "t1 = []\n",
    "n = int(input(\"Enter Size of tuple : \"))\n",
    "for i in range (n) :\n",
    "   t1.append(int(input(f\"Enter {i+1}th element : \")))\n",
    "t1 = tuple(t1)\n",
    "ans = [((t1[i],t1[i]**3)) for i in range(0,len(t1))]\n",
    "\n",
    "#ans = []\n",
    "# for i in range(0,len(t1)) :\n",
    "#     temp = (t1[i],t1[i]**3)\n",
    "#     ans.append(temp)\n",
    "ans"
   ]
  },
  {
   "cell_type": "markdown",
   "metadata": {},
   "source": [
    "### 05) WAP to find tuples with all positive elements from the given list of tuples."
   ]
  },
  {
   "cell_type": "code",
   "execution_count": 17,
   "metadata": {},
   "outputs": [
    {
     "data": {
      "text/plain": [
       "(1, 2, 4, 5)"
      ]
     },
     "execution_count": 17,
     "metadata": {},
     "output_type": "execute_result"
    }
   ],
   "source": [
    "t1 = [(1,2),(-3,4),(5,-6)]\n",
    "ans = []\n",
    "for i in range(len(t1)) :\n",
    "    for j in range(len(t1[i])) : \n",
    "        if t1[i][j] >= 0 :\n",
    "            ans.append(t1[i][j])\n",
    "\n",
    "tuple(ans)"
   ]
  },
  {
   "cell_type": "markdown",
   "metadata": {},
   "source": [
    "### 06) WAP to add tuple to list and vice – versa."
   ]
  },
  {
   "cell_type": "code",
   "execution_count": 19,
   "metadata": {},
   "outputs": [
    {
     "name": "stdout",
     "output_type": "stream",
     "text": [
      "([1, 2, 3], [4, 5, 6], [7, 8, 9])\n",
      "[(1, 2, 3), (4, 5, 6), (7, 8, 9)]\n"
     ]
    }
   ],
   "source": [
    "t1 = []\n",
    "a = [1,2,3]\n",
    "b = [4,5,6]\n",
    "c = [7,8,9]\n",
    "t1.append(a)\n",
    "t1.append(b)\n",
    "t1.append(c)\n",
    "print(tuple(t1))\n",
    "\n",
    "t2 = []\n",
    "a = [1,2,3]\n",
    "b = [4,5,6]\n",
    "c = [7,8,9]\n",
    "t2.append(tuple(a))\n",
    "t2.append(tuple(b))\n",
    "t2.append(tuple(c))\n",
    "print(t2)\n"
   ]
  },
  {
   "cell_type": "markdown",
   "metadata": {},
   "source": [
    "### 07) WAP to remove tuples of length K."
   ]
  },
  {
   "cell_type": "code",
   "execution_count": null,
   "metadata": {},
   "outputs": [],
   "source": []
  },
  {
   "cell_type": "markdown",
   "metadata": {},
   "source": [
    "### 08) WAP to remove duplicates from tuple."
   ]
  },
  {
   "cell_type": "code",
   "execution_count": null,
   "metadata": {},
   "outputs": [],
   "source": []
  },
  {
   "cell_type": "markdown",
   "metadata": {},
   "source": [
    "### 09) WAP to multiply adjacent elements of a tuple and print that resultant tuple."
   ]
  },
  {
   "cell_type": "code",
   "execution_count": null,
   "metadata": {},
   "outputs": [],
   "source": []
  },
  {
   "cell_type": "markdown",
   "metadata": {},
   "source": [
    "### 10) WAP to test if the given tuple is distinct or not."
   ]
  },
  {
   "cell_type": "code",
   "execution_count": null,
   "metadata": {},
   "outputs": [],
   "source": []
  }
 ],
 "metadata": {
  "kernelspec": {
   "display_name": "Python 3 (ipykernel)",
   "language": "python",
   "name": "python3"
  },
  "language_info": {
   "codemirror_mode": {
    "name": "ipython",
    "version": 3
   },
   "file_extension": ".py",
   "mimetype": "text/x-python",
   "name": "python",
   "nbconvert_exporter": "python",
   "pygments_lexer": "ipython3",
   "version": "3.12.7"
  }
 },
 "nbformat": 4,
 "nbformat_minor": 4
}
