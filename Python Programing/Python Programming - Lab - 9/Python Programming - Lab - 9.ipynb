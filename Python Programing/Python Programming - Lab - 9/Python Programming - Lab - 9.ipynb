{
 "cells": [
  {
   "cell_type": "markdown",
   "metadata": {},
   "source": [
    "<a href='https://www.darshan.ac.in/'> <img src='https://www.darshan.ac.in/Content/media/DU_Logo.svg' width=\"250\" height=\"300\"/></a>\n",
    "<pre>\n",
    "<center><b><h1>Python Programming - 2301CS404</b></center>\n",
    "<center><b><h1>Lab - 9</b></center>    \n",
    "<center><b><h1>Haril Parmar - 4A -258 </b></center>\n",
    "<center><b><h1>23010101188</b></center> \n",
    "<pre>"
   ]
  },
  {
   "cell_type": "markdown",
   "metadata": {},
   "source": [
    "# File I/O"
   ]
  },
  {
   "cell_type": "markdown",
   "metadata": {},
   "source": [
    "### 01) WAP to read and display the contents of a text file. (also try to open the file in some other directory) \n",
    "#### - in the form of a string\n",
    "#### - line by line\n",
    "#### - in the form of a list"
   ]
  },
  {
   "cell_type": "code",
   "execution_count": 13,
   "metadata": {},
   "outputs": [
    {
     "name": "stdout",
     "output_type": "stream",
     "text": [
      "- in the form of a string\n",
      "- line by line\n",
      "- in the form of a list\n"
     ]
    }
   ],
   "source": [
    "fp = open('text.txt')\n",
    "print(fp.read())\n",
    "fp.close()"
   ]
  },
  {
   "cell_type": "markdown",
   "metadata": {},
   "source": [
    "### 02) WAP to create file named \"new.txt\" only if it doesn't exist."
   ]
  },
  {
   "cell_type": "code",
   "execution_count": 16,
   "metadata": {},
   "outputs": [
    {
     "name": "stdout",
     "output_type": "stream",
     "text": [
      "\n"
     ]
    }
   ],
   "source": [
    "fp = open('new.txt','x+')\n",
    "fp.write('File is Created')\n",
    "fp.close()"
   ]
  },
  {
   "cell_type": "markdown",
   "metadata": {},
   "source": [
    "### 03) WAP to read first 5 lines from the text file."
   ]
  },
  {
   "cell_type": "code",
   "execution_count": 25,
   "metadata": {},
   "outputs": [
    {
     "name": "stdout",
     "output_type": "stream",
     "text": [
      "- in the form of a string\n",
      "- line by line\n",
      "- in the form of a list\n",
      "- in the form of a string\n",
      "- line by line\n"
     ]
    }
   ],
   "source": [
    "fp = open('text.txt')\n",
    "x = fp.readlines()\n",
    "for i in range(0,5) :\n",
    "    print(x[i][:len(x[i])-1:])\n",
    "fp.close()    "
   ]
  },
  {
   "cell_type": "markdown",
   "metadata": {},
   "source": [
    "### 04) WAP to find the longest word(s) in a file"
   ]
  },
  {
   "cell_type": "code",
   "execution_count": 30,
   "metadata": {},
   "outputs": [
    {
     "name": "stdout",
     "output_type": "stream",
     "text": [
      "['strjgjvging']\n"
     ]
    }
   ],
   "source": [
    "fp = open('text.txt',)\n",
    "words = fp.read().split()\n",
    "m = max(len(word) for word in words)\n",
    "l = [word for word in words if len(word) == m]\n",
    "print(l)\n",
    "fp.close()"
   ]
  },
  {
   "cell_type": "markdown",
   "metadata": {},
   "source": [
    "### 05) WAP to count the no. of lines, words and characters in a given text file."
   ]
  },
  {
   "cell_type": "code",
   "execution_count": 46,
   "metadata": {},
   "outputs": [
    {
     "name": "stdout",
     "output_type": "stream",
     "text": [
      "Count of Lines:  6\n",
      "Count of Words:  36\n",
      "Count of Characters:  134\n"
     ]
    }
   ],
   "source": [
    "fp = open('text.txt', 'r')\n",
    "x = fp.readlines()\n",
    "count_lines = len(x)\n",
    "count_words = 0\n",
    "count_characters = 0\n",
    "for line in x:\n",
    "    count_words += len(line.split())  \n",
    "    count_characters += len(line)    \n",
    "print(\"Count of Lines: \", count_lines)\n",
    "print(\"Count of Words: \", count_words)\n",
    "print(\"Count of Characters: \", count_characters)\n",
    "fp.close()"
   ]
  },
  {
   "cell_type": "markdown",
   "metadata": {},
   "source": [
    "### 06) WAP to copy the content of a file to the another file."
   ]
  },
  {
   "cell_type": "code",
   "execution_count": 3,
   "metadata": {},
   "outputs": [],
   "source": [
    "fp = open(\"text.txt\", \"r\")\n",
    "fp2 =open(\"ctxt.txt\",\"x+\")\n",
    "fp2.write(fp.read())\n",
    "fp.close()\n",
    "fp2.close()"
   ]
  },
  {
   "cell_type": "markdown",
   "metadata": {},
   "source": [
    "### 07) WAP to find the size of the text file. "
   ]
  },
  {
   "cell_type": "code",
   "execution_count": 4,
   "metadata": {},
   "outputs": [
    {
     "name": "stdout",
     "output_type": "stream",
     "text": [
      "134\n"
     ]
    }
   ],
   "source": [
    "fp = open('text.txt')\n",
    "fp.seek(0,2)\n",
    "print(fp.tell())"
   ]
  },
  {
   "cell_type": "markdown",
   "metadata": {},
   "source": [
    "### 08) WAP to create an UDF named frequency to count occurances of the specific word in a given text file."
   ]
  },
  {
   "cell_type": "code",
   "execution_count": null,
   "metadata": {},
   "outputs": [],
   "source": [
    "def occurance_of_char() :\n",
    "    fp = open('text.txt')\n",
    "    data = fp.readlines()\n",
    "\n",
    "    char_count = 0\n",
    "    for line in data :\n",
    "        word_len = "
   ]
  },
  {
   "cell_type": "markdown",
   "metadata": {},
   "source": [
    "### 09) WAP to get the score of five subjects from the user, store them in a file. Fetch those marks and find the highest score."
   ]
  },
  {
   "cell_type": "code",
   "execution_count": 6,
   "metadata": {},
   "outputs": [
    {
     "name": "stdout",
     "output_type": "stream",
     "text": [
      "Enter the scores for 5 subjects:\n"
     ]
    },
    {
     "name": "stdin",
     "output_type": "stream",
     "text": [
      "Score for subject 1:  10\n",
      "Score for subject 2:  15\n",
      "Score for subject 3:  88\n",
      "Score for subject 4:  100\n",
      "Score for subject 5:  100\n"
     ]
    },
    {
     "name": "stdout",
     "output_type": "stream",
     "text": [
      "The scores retrieved from the file are: [10.0, 15.0, 88.0, 100.0, 100.0]\n",
      "The highest score is: 100.0\n"
     ]
    }
   ],
   "source": [
    "def get_scores():\n",
    "    \"\"\"Get scores of five subjects from the user.\"\"\"\n",
    "    scores = []\n",
    "    print(\"Enter the scores for 5 subjects:\")\n",
    "    for i in range(1, 6):\n",
    "        while True:\n",
    "            try:\n",
    "                score = float(input(f\"Score for subject {i}: \"))\n",
    "                if 0 <= score <= 100:  # Assuming scores are between 0 and 100\n",
    "                    scores.append(score)\n",
    "                    break\n",
    "                else:\n",
    "                    print(\"Please enter a score between 0 and 100.\")\n",
    "            except ValueError:\n",
    "                print(\"Invalid input. Please enter a numeric value.\")\n",
    "    return scores\n",
    "\n",
    "def write_scores_to_file(filename, scores):\n",
    "    \"\"\"Write scores to a file.\"\"\"\n",
    "    with open(filename, \"w\") as file:\n",
    "        for score in scores:\n",
    "            file.write(f\"{score}\\n\")\n",
    "\n",
    "def read_scores_from_file(filename):\n",
    "    \"\"\"Read scores from a file.\"\"\"\n",
    "    with open(filename, \"r\") as file:\n",
    "        return [float(line.strip()) for line in file]\n",
    "\n",
    "def find_highest_score(scores):\n",
    "    \"\"\"Find the highest score.\"\"\"\n",
    "    return max(scores)\n",
    "\n",
    "# Main program\n",
    "filename = \"scores.txt\"\n",
    "\n",
    "# Step 1: Get scores from the user and store them in a file\n",
    "scores = get_scores()\n",
    "write_scores_to_file(filename, scores)\n",
    "\n",
    "# Step 2: Fetch the scores from the file\n",
    "retrieved_scores = read_scores_from_file(filename)\n",
    "\n",
    "# Step 3: Find the highest score\n",
    "highest_score = find_highest_score(retrieved_scores)\n",
    "\n",
    "print(f\"The scores retrieved from the file are: {retrieved_scores}\")\n",
    "print(f\"The highest score is: {highest_score}\")\n"
   ]
  },
  {
   "cell_type": "markdown",
   "metadata": {},
   "source": [
    "### 10) WAP to write first 100 prime numbers to a file named primenumbers.txt \n",
    "(Note: each number should be in new line)"
   ]
  },
  {
   "cell_type": "code",
   "execution_count": 5,
   "metadata": {},
   "outputs": [
    {
     "name": "stdout",
     "output_type": "stream",
     "text": [
      "The first 100 prime numbers have been written to 'primenumbers.txt'.\n"
     ]
    }
   ],
   "source": [
    "def is_prime(num):\n",
    "    \"\"\"Check if a number is a prime number.\"\"\"\n",
    "    if num < 2:\n",
    "        return False\n",
    "    for i in range(2, int(num**0.5) + 1):\n",
    "        if num % i == 0:\n",
    "            return False\n",
    "    return True\n",
    "\n",
    "def generate_primes(count):\n",
    "    \"\"\"Generate the first 'count' prime numbers.\"\"\"\n",
    "    primes = []\n",
    "    num = 2\n",
    "    while len(primes) < count:\n",
    "        if is_prime(num):\n",
    "            primes.append(num)\n",
    "        num += 1\n",
    "    return primes\n",
    "\n",
    "def write_primes_to_file(filename, primes):\n",
    "    \"\"\"Write the list of primes to a file.\"\"\"\n",
    "    with open(filename, \"w\") as file:\n",
    "        for prime in primes:\n",
    "            file.write(f\"{prime}\\n\")\n",
    "\n",
    "# Generate the first 100 prime numbers\n",
    "first_100_primes = generate_primes(100)\n",
    "\n",
    "# Write them to the file\n",
    "write_primes_to_file(\"primenumbers.txt\", first_100_primes)\n",
    "\n",
    "print(\"The first 100 prime numbers have been written to 'primenumbers.txt'.\")\n"
   ]
  },
  {
   "cell_type": "markdown",
   "metadata": {},
   "source": [
    "### 11) WAP to merge two files and write it in a new file."
   ]
  },
  {
   "cell_type": "code",
   "execution_count": null,
   "metadata": {},
   "outputs": [],
   "source": []
  },
  {
   "cell_type": "markdown",
   "metadata": {},
   "source": [
    "### 12) WAP to replace word1 by word2 of a text file. Write the updated data to new file."
   ]
  },
  {
   "cell_type": "code",
   "execution_count": null,
   "metadata": {},
   "outputs": [],
   "source": []
  },
  {
   "cell_type": "markdown",
   "metadata": {},
   "source": [
    "### 13) Demonstrate tell() and seek() for all the cases(seek from beginning-end-current position) taking a suitable example of your choice."
   ]
  },
  {
   "cell_type": "code",
   "execution_count": null,
   "metadata": {},
   "outputs": [],
   "source": []
  }
 ],
 "metadata": {
  "kernelspec": {
   "display_name": "Python 3 (ipykernel)",
   "language": "python",
   "name": "python3"
  },
  "language_info": {
   "codemirror_mode": {
    "name": "ipython",
    "version": 3
   },
   "file_extension": ".py",
   "mimetype": "text/x-python",
   "name": "python",
   "nbconvert_exporter": "python",
   "pygments_lexer": "ipython3",
   "version": "3.12.7"
  }
 },
 "nbformat": 4,
 "nbformat_minor": 4
}
