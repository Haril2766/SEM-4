{
 "cells": [
  {
   "cell_type": "markdown",
   "metadata": {},
   "source": [
    "<a href='https://www.darshan.ac.in/'> <img src='https://www.darshan.ac.in/Content/media/DU_Logo.svg' width=\"250\" height=\"10\"/></a>\n",
    "<pre>\n",
    "<center><b><h1>Python Programming - 2301CS404</b></center>\n",
    "<center><b><h1>Lab - 1</b></center> \n",
    "<center><b><h1>Haril Parmar - 4A -258 </b></center>\n",
    "<center><b><h1>23010101188</b></center> \n",
    "<pre>"
   ]
  },
  {
   "cell_type": "markdown",
   "metadata": {},
   "source": [
    "### 01) WAP to print “Hello World”"
   ]
  },
  {
   "cell_type": "code",
   "execution_count": 1,
   "metadata": {},
   "outputs": [
    {
     "name": "stdout",
     "output_type": "stream",
     "text": [
      "Hello World\n"
     ]
    }
   ],
   "source": [
    "print(\"Hello World\")"
   ]
  },
  {
   "cell_type": "markdown",
   "metadata": {},
   "source": [
    "### 02) WAP to print addition of two numbers with and without using input()."
   ]
  },
  {
   "cell_type": "code",
   "execution_count": 2,
   "metadata": {},
   "outputs": [
    {
     "name": "stdin",
     "output_type": "stream",
     "text": [
      "Enter A Number :  12\n",
      "Enter B Number :  13\n"
     ]
    },
    {
     "name": "stdout",
     "output_type": "stream",
     "text": [
      "25\n"
     ]
    }
   ],
   "source": [
    "a = int(input(\"Enter A Number : \"))\n",
    "b = int(input(\"Enter B Number : \"))\n",
    "\n",
    "print(a+b)"
   ]
  },
  {
   "cell_type": "markdown",
   "metadata": {},
   "source": [
    "### 03) WAP to check the type of the variable."
   ]
  },
  {
   "cell_type": "code",
   "execution_count": 4,
   "metadata": {},
   "outputs": [
    {
     "name": "stdout",
     "output_type": "stream",
     "text": [
      "DataType Of A is  <class 'int'>\n",
      "DataType Of B is  <class 'str'>\n"
     ]
    }
   ],
   "source": [
    "a = 12\n",
    "b = \"haril\"\n",
    "\n",
    "print(\"DataType Of A is \",type(a))\n",
    "print(\"DataType Of B is \",type(b))"
   ]
  },
  {
   "cell_type": "markdown",
   "metadata": {},
   "source": [
    "### 04) WAP to calculate simple interest."
   ]
  },
  {
   "cell_type": "code",
   "execution_count": 6,
   "metadata": {},
   "outputs": [
    {
     "name": "stdin",
     "output_type": "stream",
     "text": [
      "Enter P :  9000\n",
      "Enter T :  5\n",
      "Enter R :  0.07\n"
     ]
    },
    {
     "name": "stdout",
     "output_type": "stream",
     "text": [
      "Simple Intrest Is :  31.500000000000004\n"
     ]
    }
   ],
   "source": [
    "p = float(input(\"Enter P : \"))\n",
    "t = float(input(\"Enter T : \"))\n",
    "r = float(input(\"Enter R : \"))\n",
    "\n",
    "\n",
    "print(\"Simple Intrest Is : \",((p*t*r)/100))\n"
   ]
  },
  {
   "cell_type": "markdown",
   "metadata": {},
   "source": [
    "### 05) WAP to calculate area and perimeter of a circle."
   ]
  },
  {
   "cell_type": "code",
   "execution_count": 13,
   "metadata": {},
   "outputs": [
    {
     "name": "stdin",
     "output_type": "stream",
     "text": [
      "Enter Value of R is :  3\n"
     ]
    },
    {
     "name": "stdout",
     "output_type": "stream",
     "text": [
      "18.84955592153876\n"
     ]
    }
   ],
   "source": [
    "import math\n",
    "\n",
    "R = int(input(\"Enter Value of R is : \"))\n",
    "\n",
    "print(2*math.pi*R)\n"
   ]
  },
  {
   "cell_type": "markdown",
   "metadata": {},
   "source": [
    "### 06) WAP to calculate area of a triangle."
   ]
  },
  {
   "cell_type": "code",
   "execution_count": 4,
   "metadata": {},
   "outputs": [
    {
     "name": "stdin",
     "output_type": "stream",
     "text": [
      "Enter Value of B is :  12\n",
      "Enter Value of H is :  12\n"
     ]
    },
    {
     "name": "stdout",
     "output_type": "stream",
     "text": [
      "72.0\n"
     ]
    }
   ],
   "source": [
    "B = int(input(\"Enter Value of B is : \"))\n",
    "H = int(input(\"Enter Value of H is : \"))\n",
    "\n",
    "print((B*H)/2)\n"
   ]
  },
  {
   "cell_type": "markdown",
   "metadata": {},
   "source": [
    "### 07) WAP to compute quotient and remainder."
   ]
  },
  {
   "cell_type": "code",
   "execution_count": 7,
   "metadata": {},
   "outputs": [
    {
     "name": "stdin",
     "output_type": "stream",
     "text": [
      "Enter value of N :  11\n",
      "Enter value of D :  2\n"
     ]
    },
    {
     "name": "stdout",
     "output_type": "stream",
     "text": [
      "Quotient: 5.5\n",
      "Remainder: 1\n"
     ]
    }
   ],
   "source": [
    "n = int(input(\"Enter value of N : \"))\n",
    "d = int(input(\"Enter value of D : \"))\n",
    "\n",
    "q = n/d\n",
    "r= n % d\n",
    "\n",
    "print(\"Quotient:\", q)\n",
    "print(\"Remainder:\", r)"
   ]
  },
  {
   "cell_type": "markdown",
   "metadata": {},
   "source": [
    "### 08) WAP to convert degree into Fahrenheit and vice versa."
   ]
  },
  {
   "cell_type": "code",
   "execution_count": 6,
   "metadata": {},
   "outputs": [
    {
     "name": "stdout",
     "output_type": "stream",
     "text": [
      "1. Celsius to Fahrenheit\n",
      "2. Fahrenheit to Celsius\n"
     ]
    },
    {
     "name": "stdin",
     "output_type": "stream",
     "text": [
      "Enter your choice :  1\n",
      "Enter temperature in Celsius:  23\n"
     ]
    },
    {
     "name": "stdout",
     "output_type": "stream",
     "text": [
      "73.4\n"
     ]
    }
   ],
   "source": [
    "print(\"1. Celsius to Fahrenheit\")\n",
    "print(\"2. Fahrenheit to Celsius\")\n",
    "choice = int(input(\"Enter your choice : \"))\n",
    "\n",
    "if choice == 1:\n",
    "    c = float(input(\"Enter temperature in Celsius: \"))\n",
    "    f = (c * 9/5) + 32\n",
    "    print(f)\n",
    "elif choice == 2:\n",
    "    f = float(input(\"Enter temperature in Fahrenheit: \"))\n",
    "    c = (f - 32) * 5/9\n",
    "    print(c)\n",
    "else:\n",
    "    print(\"Invalid choice!\")"
   ]
  },
  {
   "cell_type": "markdown",
   "metadata": {},
   "source": [
    "### 09) WAP to find the distance between two points in 2-D space."
   ]
  },
  {
   "cell_type": "code",
   "execution_count": 14,
   "metadata": {},
   "outputs": [
    {
     "name": "stdin",
     "output_type": "stream",
     "text": [
      "Enter Value Of x for 1st Point :  12\n",
      "Enter Value Of y for 1st Point :  12\n",
      "Enter Value Of x for 2nd Point :  12\n",
      "Enter Value Of y for 2nd Point :  12\n"
     ]
    },
    {
     "name": "stdout",
     "output_type": "stream",
     "text": [
      "distance between two points is  0.0\n"
     ]
    }
   ],
   "source": [
    "#Formula  d=√((x2 – x1)² + (y2 – y1)²) \n",
    "import math\n",
    "#For First point\n",
    "x1 = int(input(\"Enter Value Of x for 1st Point : \"))\n",
    "y1 = int(input(\"Enter Value Of y for 1st Point : \"))\n",
    "\n",
    "#For Second Point\n",
    "x2 = int(input(\"Enter Value Of x for 2nd Point : \"))\n",
    "y2 = int(input(\"Enter Value Of y for 2nd Point : \"))\n",
    "\n",
    "#Calcluate\n",
    "a=((x2-x1)*(x2-x1))+((y2-y1)*(y2-y1))\n",
    "d = math.sqrt(a)\n",
    "print(\"distance between two points is \",d)\n"
   ]
  },
  {
   "cell_type": "markdown",
   "metadata": {},
   "source": [
    "### 10) WAP to print sum of n natural numbers."
   ]
  },
  {
   "cell_type": "code",
   "execution_count": 15,
   "metadata": {},
   "outputs": [
    {
     "name": "stdin",
     "output_type": "stream",
     "text": [
      "Enter Value Of N :  3\n"
     ]
    },
    {
     "name": "stdout",
     "output_type": "stream",
     "text": [
      "6\n"
     ]
    }
   ],
   "source": [
    "n = int(input(\"Enter Value Of N : \"))\n",
    "sum = 0 ;\n",
    "\n",
    "for i in range(1,n+1) :\n",
    "    sum += i\n",
    "print(sum)    "
   ]
  },
  {
   "cell_type": "markdown",
   "metadata": {},
   "source": [
    "### 11) WAP to print sum of square of n natural numbers."
   ]
  },
  {
   "cell_type": "code",
   "execution_count": 16,
   "metadata": {},
   "outputs": [
    {
     "name": "stdin",
     "output_type": "stream",
     "text": [
      "Enter Value Of N :  3\n"
     ]
    },
    {
     "name": "stdout",
     "output_type": "stream",
     "text": [
      "14\n"
     ]
    }
   ],
   "source": [
    "n = int(input(\"Enter Value Of N : \"))\n",
    "sum = 0 ;\n",
    "\n",
    "for i in range(1,n+1) :\n",
    "    sum += i*i\n",
    "print(sum)    "
   ]
  },
  {
   "cell_type": "markdown",
   "metadata": {},
   "source": [
    "### 12) WAP to concate the first and last name of the student."
   ]
  },
  {
   "cell_type": "code",
   "execution_count": 19,
   "metadata": {},
   "outputs": [
    {
     "name": "stdin",
     "output_type": "stream",
     "text": [
      "Enter First Name :  Haril\n",
      "Enter Last Name :  Parmar\n"
     ]
    },
    {
     "name": "stdout",
     "output_type": "stream",
     "text": [
      "HarilParmar\n"
     ]
    }
   ],
   "source": [
    "fn = input(\"Enter First Name : \")\n",
    "ln = input(\"Enter Last Name : \")\n",
    "\n",
    "fullname = fn + ln\n",
    "\n",
    "print (fullname)"
   ]
  },
  {
   "cell_type": "markdown",
   "metadata": {},
   "source": [
    "### 13) WAP to swap two numbers."
   ]
  },
  {
   "cell_type": "code",
   "execution_count": 22,
   "metadata": {},
   "outputs": [
    {
     "name": "stdin",
     "output_type": "stream",
     "text": [
      "Enter Value of A :  10\n",
      "Enter Value of B :  20\n"
     ]
    },
    {
     "name": "stdout",
     "output_type": "stream",
     "text": [
      "Value of a is 10 and b is 20 before swap\n",
      "Value of a is 20 and b is 10 after swap\n"
     ]
    }
   ],
   "source": [
    "a = int(input(\"Enter Value of A : \"))\n",
    "b = int(input(\"Enter Value of B : \"))\n",
    "\n",
    "print (f\"Value of a is {a} and b is {b} before swap\")\n",
    "a = a+b\n",
    "b = a-b\n",
    "a = a-b\n",
    "print (f\"Value of a is {a} and b is {b} after swap\")"
   ]
  },
  {
   "cell_type": "markdown",
   "metadata": {},
   "source": [
    "### 14) WAP to get the distance from user into kilometer, and convert it into meter, feet, inches and centimeter."
   ]
  },
  {
   "cell_type": "code",
   "execution_count": 27,
   "metadata": {},
   "outputs": [
    {
     "name": "stdin",
     "output_type": "stream",
     "text": [
      "Enter Value of Kilometer :  1\n"
     ]
    },
    {
     "name": "stdout",
     "output_type": "stream",
     "text": [
      "1.0 = 1000.0 m\n",
      "1.0 = 3280.84 ft\n",
      "1.0 = 39370.1 inch\n",
      "1.0 = 100000.0 cm\n"
     ]
    }
   ],
   "source": [
    "#1 km = 1000 meter\n",
    "#1 km = 3280.84ft\n",
    "#1 km = 39370.1 in\n",
    "#1 km = 100000 cm\n",
    "\n",
    "km = float(input(\"Enter Value of Kilometer : \"))\n",
    "\n",
    "print(f\"{km} = {km*1000} m\")\n",
    "print(f\"{km} = {km*3280.84} ft\")\n",
    "print(f\"{km} = {km*39370.1} inch\")\n",
    "print(f\"{km} = {km*100000} cm\")\n",
    "\n"
   ]
  },
  {
   "cell_type": "markdown",
   "metadata": {},
   "source": [
    "### 15) WAP to get day, month and year from the user and print the date in the given format: 23-11-2024."
   ]
  },
  {
   "cell_type": "code",
   "execution_count": 28,
   "metadata": {},
   "outputs": [
    {
     "name": "stdin",
     "output_type": "stream",
     "text": [
      "Enter Date :  23\n",
      "Enter Month :  11\n",
      "Enter Year :  2024\n"
     ]
    },
    {
     "name": "stdout",
     "output_type": "stream",
     "text": [
      "23-11-2024\n"
     ]
    }
   ],
   "source": [
    "date = int(input(\"Enter Date : \"))\n",
    "month = int(input(\"Enter Month : \"))\n",
    "year = int(input(\"Enter Year : \"))\n",
    "\n",
    "print(f\"{date}-{month}-{year}\")"
   ]
  },
  {
   "cell_type": "code",
   "execution_count": null,
   "metadata": {},
   "outputs": [],
   "source": []
  }
 ],
 "metadata": {
  "kernelspec": {
   "display_name": "Python 3 (ipykernel)",
   "language": "python",
   "name": "python3"
  },
  "language_info": {
   "codemirror_mode": {
    "name": "ipython",
    "version": 3
   },
   "file_extension": ".py",
   "mimetype": "text/x-python",
   "name": "python",
   "nbconvert_exporter": "python",
   "pygments_lexer": "ipython3",
   "version": "3.12.7"
  },
  "vscode": {
   "interpreter": {
    "hash": "31f2aee4e71d21fbe5cf8b01ff0e069b9275f58929596ceb00d14d90e3e16cd6"
   }
  }
 },
 "nbformat": 4,
 "nbformat_minor": 4
}
